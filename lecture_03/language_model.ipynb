{
 "cells": [
  {
   "cell_type": "code",
   "execution_count": 1,
   "id": "b8427092-1907-4262-bed0-6c9ec755084d",
   "metadata": {},
   "outputs": [],
   "source": [
    "import torch\n",
    "import torch.nn as nn\n",
    "import pandas as pd\n",
    "import matplotlib.pyplot as plt"
   ]
  },
  {
   "attachments": {},
   "cell_type": "markdown",
   "id": "6bd5ac8a-3935-47c8-8e79-9effeb70ee67",
   "metadata": {},
   "source": [
    "# Implementing a Generative Language Model with PyTorch\n",
    "\n",
    "Paper on neural language model: https://www.jmlr.org/papers/volume3/bengio03a/bengio03a.pdf\n",
    "\n",
    "Video on language model implementations in PyTorch: https://youtube.com/playlist?list=PLAqhIrjkxbuWI23v9cThsA9GvCAUhRvKZ"
   ]
  },
  {
   "attachments": {},
   "cell_type": "markdown",
   "id": "661bb7f1-fda3-4e32-9083-d54c776bac86",
   "metadata": {},
   "source": [
    "## Goal: Can we generate convincing titles of mathematics papers?\n",
    "\n",
    "### Mathematical Formulation:\n",
    "\n",
    "* $V$ - vocabulary set\n",
    "\n",
    "* $w \\in V$ - token (character)\n",
    "\n",
    "* $w_i^j = (w_i, w_{i+1} , \\dots, w_{j-1}, w_j)$ - sequence of tokens (characters)\n",
    "\n",
    "We wish to learn a conditional probability distribution $P(w_t | w_{1}^{t-1})$ on $V$ for the outcome of a new token $w_t$ given a previous sequence of tokens (context) is $w_1^{t-1}$.\n",
    "\n",
    "Our $P$ will be the distribution of a dataset consiting of titles of research papers about machine learning taken from arXiv."
   ]
  },
  {
   "attachments": {},
   "cell_type": "markdown",
   "id": "4e88e46a-9351-455e-aa0c-6c1974b11c95",
   "metadata": {},
   "source": [
    "### Strategy\n",
    "\n",
    "* Approximating $P(\\cdot | w_{1}^{t-1})$ can be cost-prohibitive, so we will instead approximate\n",
    "$$\n",
    "    P(\\cdot | w_{t-(n-1)}^{t-1})\n",
    "$$\n",
    "which only uses the previous $n-1$ tokens. We call this an $n$-gram model since we use the last $n-1$ characters to predict the $n$-th character.\n",
    "\n",
    "\n",
    "* Approximate $P(\\cdot| w_{t-(n-1)}^{t-1})$ with a feedforward neural network $f_{\\theta}: V^{n-1} \\to \\mathcal{P}(V) \\subset \\mathbb{R}^{|V|}$ whose inputs are only the previous $n-1$ characters:\n",
    "$$\n",
    "    f_\\theta (w_{t-(n-1)}, \\dots, w_{t-1})(\\cdot) \\approx P(\\cdot | w_{t-(n-1)}^{t-1})\n",
    "$$\n",
    "\n",
    "* Embed our vocabulary into a lower dimensional space with dimension $m < |V|$ via an embedding function $C: V \\to \\mathbb{R}^m$ and feed this embedding to our NN.\n",
    "\n",
    "* In our case this embedding map $C$ wil be represented as multiplication by a $|V| \\times m$ matrix with tweakable entries.\n",
    "\n",
    "* To train our NN $f_\\theta$, we will use stochastic gradient descent to maximize the log probability that $w_t$ (sampled from the trainng data) is sampled from $f_\\theta$\n",
    "$$\n",
    "    L(\\theta) = - \\log f_\\theta (w_{t-(n-1)}, \\dots, w_{t-1})(w_t)\n",
    "$$\n",
    "This is known as the *cross-entropy loss* or *negative log likelihood loss*."
   ]
  },
  {
   "attachments": {},
   "cell_type": "markdown",
   "id": "550e348f-04ae-4a56-9636-96843cfce05a",
   "metadata": {},
   "source": [
    "### Read in titles from csv file and inspect data"
   ]
  },
  {
   "cell_type": "code",
   "execution_count": 2,
   "id": "c2adfe85-7e9f-4508-b1dc-fc0f06a851cc",
   "metadata": {},
   "outputs": [
    {
     "data": {
      "text/plain": [
       "['A determinant of Stirling cycle numbers counts unlabeled acyclic single-source automata\\n',\n",
       " 'Partial cubes: structures, characterizations, and constructions\\n',\n",
       " 'Distribution of integral Fourier Coefficients of a Modular Form of Half Integral Weight Modulo Primes\\n']"
      ]
     },
     "execution_count": 2,
     "metadata": {},
     "output_type": "execute_result"
    }
   ],
   "source": [
    "df = pd.read_csv('arxiv-papers.csv')\n",
    "title_list = df['title'].tolist()\n",
    "title_list = [title + '\\n' for title in title_list]\n",
    "title_list[:3]"
   ]
  },
  {
   "attachments": {},
   "cell_type": "markdown",
   "id": "c1f2c900-f5e5-433f-bc94-90122ddfbf97",
   "metadata": {},
   "source": [
    "### Build vocabulary for the model"
   ]
  },
  {
   "cell_type": "code",
   "execution_count": 3,
   "id": "7f3ea0d0-817c-40d4-aa2b-1b2e21148c94",
   "metadata": {},
   "outputs": [
    {
     "name": "stdout",
     "output_type": "stream",
     "text": [
      "\n",
      " !\"#$%&'()*+,-./0123456789:;<=>?@ABCDEFGHIJKLMNOPQRSTUVWXYZ[\\]^_`abcdefghijklmnopqrstuvwxyz{|}~¦â\n",
      "100\n",
      "7527365\n"
     ]
    }
   ],
   "source": [
    "char_list = [char for title in title_list for char in title]\n",
    "vocabulary = sorted(list(set(char_list)))\n",
    "vocab_size = len(vocabulary)\n",
    "\n",
    "print(''.join(vocabulary))\n",
    "print(vocab_size)\n",
    "print(len(char_list))"
   ]
  },
  {
   "attachments": {},
   "cell_type": "markdown",
   "id": "76926198-8692-488d-8c73-d040a9b44a33",
   "metadata": {},
   "source": [
    "### Encode vocabulary into integers"
   ]
  },
  {
   "cell_type": "code",
   "execution_count": 4,
   "id": "788ed149-a507-49e7-89a6-1ee2544995d3",
   "metadata": {},
   "outputs": [],
   "source": [
    "stoi = {ch:i for i, ch in enumerate(vocabulary)}\n",
    "itos = {i:ch for i, ch in enumerate(vocabulary)}"
   ]
  },
  {
   "attachments": {},
   "cell_type": "markdown",
   "id": "cf395297-9aac-4d7a-b5bc-6800919b8520",
   "metadata": {},
   "source": [
    "### Process data into inputs and targets\n",
    "\n",
    "Try testing out different block sizes for the context:"
   ]
  },
  {
   "cell_type": "code",
   "execution_count": 5,
   "id": "527fa947-2fb7-4134-af1e-cab91dc86be0",
   "metadata": {},
   "outputs": [],
   "source": [
    "block_size = 20\n",
    "\n",
    "X, Y = [], []\n",
    "for title in title_list:\n",
    "    context = [0] * block_size\n",
    "    for ch in title:\n",
    "        ix = stoi[ch]\n",
    "        X.append(context)\n",
    "        Y.append(ix)\n",
    "        context = context[1:] + [ix]\n",
    "X = torch.tensor(X)\n",
    "Y = torch.tensor(Y)"
   ]
  },
  {
   "attachments": {},
   "cell_type": "markdown",
   "id": "defcfd1b-2b2c-4957-a597-8e795ba6fe44",
   "metadata": {},
   "source": [
    "### Simple function to generate mini-batches of data"
   ]
  },
  {
   "cell_type": "code",
   "execution_count": 6,
   "id": "fed3d5f8-7aca-4806-8da3-1868c2e4d92b",
   "metadata": {},
   "outputs": [],
   "source": [
    "def generate_batch(batch_size):\n",
    "    ix = torch.randint(0, X.shape[0], (batch_size, ))\n",
    "    return X[ix], Y[ix]"
   ]
  },
  {
   "attachments": {},
   "cell_type": "markdown",
   "id": "9d6ad1c6-3e61-4949-9445-31fd91039bef",
   "metadata": {},
   "source": [
    "### Implement neural network architecture for our model"
   ]
  },
  {
   "cell_type": "code",
   "execution_count": 7,
   "id": "34f61ffe-b947-4a45-b774-93cca5671d99",
   "metadata": {},
   "outputs": [],
   "source": [
    "class NGramModel(nn.Module):\n",
    "    \n",
    "    def __init__(self, vocab_size, embedding_size):\n",
    "        super().__init__()\n",
    "        self.embedding_size = embedding_size\n",
    "        self.embedding_layer = nn.Embedding(vocab_size, embedding_size)\n",
    "        self.linear_layer1 = nn.Linear(self.embedding_size * block_size, 128)\n",
    "        self.linear_layer2 = nn.Linear(128, vocab_size)\n",
    "        \n",
    "    def forward(self, x):\n",
    "        x = self.embedding_layer(x)\n",
    "        x = self.linear_layer1( x.view(-1, self.embedding_size * block_size) )\n",
    "        x = torch.tanh(x)\n",
    "        x = self.linear_layer2(x)\n",
    "        return x\n",
    "    \n",
    "    @torch.no_grad()\n",
    "    def generate(self, n_titles, temp=1):\n",
    "        \"\"\"\n",
    "        Generates `n_titles` number of titles separated by newline characters.\n",
    "        The `temp` parameter adjusts how diffuse or deterministic the distribution\n",
    "        of the next character is.\n",
    "        \"\"\"\n",
    "        out = []\n",
    "        for _ in range(n_titles):\n",
    "            context = [0] * block_size\n",
    "            while True:\n",
    "                logits = self(torch.tensor(context)) * temp\n",
    "                probs = torch.softmax(logits, dim=-1)\n",
    "                ix = torch.multinomial(probs, num_samples=1).item()\n",
    "                out.append(itos[ix])\n",
    "                context = context[1:] + [ix]\n",
    "                if ix == 0:\n",
    "                    break\n",
    "        print(''.join(out))"
   ]
  },
  {
   "attachments": {},
   "cell_type": "markdown",
   "id": "c46eb8c6-b8f7-4892-a308-838c3f022b89",
   "metadata": {},
   "source": [
    "Try testing out different embedding sizes:"
   ]
  },
  {
   "cell_type": "code",
   "execution_count": 8,
   "id": "52791258-2be0-4dde-89c7-ec4db51fa414",
   "metadata": {},
   "outputs": [
    {
     "name": "stdout",
     "output_type": "stream",
     "text": [
      "jfQ$N zK gav!T;}M9T;]]\"R+dq7WoMW^lAY9zi6YD~0 <U1¦0a&?u_xA=9('y']s:>IEI9zSIBj%.SBOnB}/e<5/6B\\7<5!T%]D\"<sâY#W~Gy@*D!+XOgszomz~-.zN|Rptr2pq$gZBvb$6?HuGpECt^\\.OdYxR'x~~#9lâU-(3&kl^r-Ta}rZ/(3U*1*Lg1a)[\"v[[*Ne(¦zrqk94\\v\\@FmYbHvXhSjI\n",
      "\n"
     ]
    }
   ],
   "source": [
    "model = NGramModel(vocab_size, 64)\n",
    "model.generate(1)"
   ]
  },
  {
   "attachments": {},
   "cell_type": "markdown",
   "id": "19a5db61-3bb6-42e5-b3e5-84f91d3fccdd",
   "metadata": {},
   "source": [
    "### Train the model using Negative Log Likelihood Loss"
   ]
  },
  {
   "cell_type": "code",
   "execution_count": 9,
   "id": "d4744d1d-1f5e-47db-96d2-dd77ce6c176f",
   "metadata": {},
   "outputs": [
    {
     "data": {
      "text/plain": [
       "[<matplotlib.lines.Line2D at 0x2e503e190>]"
      ]
     },
     "execution_count": 9,
     "metadata": {},
     "output_type": "execute_result"
    },
    {
     "data": {
      "image/png": "[encoded data removed]",
      "text/plain": [
       "<Figure size 640x480 with 1 Axes>"
      ]
     },
     "metadata": {},
     "output_type": "display_data"
    }
   ],
   "source": [
    "optimizer = torch.optim.Adam(model.parameters(), lr=1e-3)\n",
    "losses = []\n",
    "\n",
    "for _ in range(30_000):\n",
    "    X_batch, Y_batch = generate_batch(64)\n",
    "    logits = model(X_batch)\n",
    "    probs = torch.softmax(logits, dim=-1)\n",
    "    log_probs = torch.log(probs)\n",
    "    loss = nn.functional.nll_loss(log_probs, Y_batch)\n",
    "    optimizer.zero_grad()\n",
    "    loss.backward()\n",
    "    optimizer.step()\n",
    "    losses.append(loss.item())\n",
    "plt.plot(losses)"
   ]
  },
  {
   "attachments": {},
   "cell_type": "markdown",
   "id": "db945456-bddd-4446-99a7-e8dbc82acd6c",
   "metadata": {},
   "source": [
    "### Generate some titles with the trained model"
   ]
  },
  {
   "cell_type": "code",
   "execution_count": 14,
   "id": "c9399bf3-fcd0-4af0-a532-021b24a29ef7",
   "metadata": {},
   "outputs": [
    {
     "name": "stdout",
     "output_type": "stream",
     "text": [
      "Compressive Autometric Network for Model for Sense conal stative Semantic Face Sy the Convolutional Neural Networks\n",
      "A News Domain Adaptation\n",
      "The Reconstruction Network for Deep Neural Networks for Setective Analysis of Adversarial Network for Networks with Application to Statistication of Visual Sameration Problem\n",
      "A Novel Learning to Proformance Sequences\n",
      "\n"
     ]
    }
   ],
   "source": [
    "model.generate(4, 2)"
   ]
  },
  {
   "attachments": {},
   "cell_type": "markdown",
   "id": "18a815bf-1dfe-45a3-a031-5583d6ed6b07",
   "metadata": {},
   "source": [
    "### Visualize the probabilities\n",
    "\n",
    "Input a string of characters into `context_str` to see the probablity distribution of the next character. You can play wth the `temp` parameter to make the distribution more or less diffuse:"
   ]
  },
  {
   "cell_type": "code",
   "execution_count": 15,
   "id": "3a7bc987-dcdc-48cb-9e7e-bbbe8adb3d66",
   "metadata": {},
   "outputs": [
    {
     "name": "stderr",
     "output_type": "stream",
     "text": [
      "/opt/homebrew/Caskroom/miniforge/base/envs/nlp_env/lib/python3.11/site-packages/IPython/core/pylabtools.py:152: UserWarning: Glyph 127 () missing from current font.\n",
      "  fig.canvas.print_figure(bytes_io, **kw)\n",
      "/opt/homebrew/Caskroom/miniforge/base/envs/nlp_env/lib/python3.11/site-packages/IPython/core/pylabtools.py:152: UserWarning: Glyph 128 (\\x80) missing from current font.\n",
      "  fig.canvas.print_figure(bytes_io, **kw)\n"
     ]
    },
    {
     "data": {
      "image/png": "[encoded data removed]",
      "text/plain": [
       "<Figure size 1500x400 with 1 Axes>"
      ]
     },
     "metadata": {},
     "output_type": "display_data"
    }
   ],
   "source": [
    "# Make sure the length of `context_str` is no more than `block_size`\n",
    "context_str = ''\n",
    "temp = 1\n",
    "\n",
    "context = [0] * (block_size - len(context_str))\n",
    "context += [stoi[ch] for ch in context_str]\n",
    "with torch.no_grad():\n",
    "    logits = model(torch.tensor(context)) * temp\n",
    "    probs = torch.softmax(logits, dim=-1)\n",
    "probs = probs.numpy().squeeze()\n",
    "\n",
    "fig, ax = plt.subplots(figsize=(15,4))\n",
    "ax.bar(range(len(probs)), probs)\n",
    "ax.set_xticks(range(len(probs)))\n",
    "ax.set_xticklabels(vocabulary)\n",
    "plt.show()"
   ]
  },
  {
   "cell_type": "code",
   "execution_count": null,
   "id": "491a26f1-5e06-463c-809f-ba455a85409e",
   "metadata": {},
   "outputs": [],
   "source": []
  }
 ],
 "metadata": {
  "kernelspec": {
   "display_name": "Python 3 (ipykernel)",
   "language": "python",
   "name": "python3"
  },
  "language_info": {
   "codemirror_mode": {
    "name": "ipython",
    "version": 3
   },
   "file_extension": ".py",
   "mimetype": "text/x-python",
   "name": "python",
   "nbconvert_exporter": "python",
   "pygments_lexer": "ipython3",
   "version": "3.11.0"
  }
 },
 "nbformat": 4,
 "nbformat_minor": 5
}
