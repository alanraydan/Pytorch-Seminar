{
 "cells": [
  {
   "cell_type": "code",
   "execution_count": 1,
   "id": "b4cfbb9c",
   "metadata": {},
   "outputs": [],
   "source": [
    "import torch\n",
    "import numpy as np\n",
    "import matplotlib.pyplot as plt"
   ]
  },
  {
   "cell_type": "markdown",
   "id": "95d32eca",
   "metadata": {},
   "source": [
    "# Introduction to PyTorch"
   ]
  },
  {
   "cell_type": "markdown",
   "id": "5d102f8e",
   "metadata": {},
   "source": [
    "## The PyTorch Tensor: the fundamental object of PyTorch"
   ]
  },
  {
   "cell_type": "markdown",
   "id": "a75e85fe",
   "metadata": {},
   "source": [
    "You can intialize a Pytorch tensor in a number of ways using `torch.tensor()`:\n",
    "\n",
    "* with a `float` or `int`:"
   ]
  },
  {
   "cell_type": "code",
   "execution_count": 2,
   "id": "d03d14ff",
   "metadata": {},
   "outputs": [
    {
     "data": {
      "text/plain": [
       "tensor(2.)"
      ]
     },
     "execution_count": 2,
     "metadata": {},
     "output_type": "execute_result"
    }
   ],
   "source": [
    "x = torch.tensor(2.0)\n",
    "x"
   ]
  },
  {
   "cell_type": "markdown",
   "id": "ad887c44",
   "metadata": {},
   "source": [
    "* with a Python list:"
   ]
  },
  {
   "cell_type": "code",
   "execution_count": 3,
   "id": "9cf43fa4",
   "metadata": {},
   "outputs": [
    {
     "data": {
      "text/plain": [
       "tensor([1., 2., 3.])"
      ]
     },
     "execution_count": 3,
     "metadata": {},
     "output_type": "execute_result"
    }
   ],
   "source": [
    "l = [1.0, 2.0, 3.0]\n",
    "y = torch.tensor(l)\n",
    "y"
   ]
  },
  {
   "cell_type": "markdown",
   "id": "041b841c",
   "metadata": {},
   "source": [
    "* with a Numpy array:"
   ]
  },
  {
   "cell_type": "code",
   "execution_count": 4,
   "id": "f603da3c",
   "metadata": {},
   "outputs": [
    {
     "data": {
      "text/plain": [
       "tensor([4., 5.], dtype=torch.float64)"
      ]
     },
     "execution_count": 4,
     "metadata": {},
     "output_type": "execute_result"
    }
   ],
   "source": [
    "a = np.array([4.0, 5.0])\n",
    "z = torch.tensor(a)\n",
    "z"
   ]
  },
  {
   "cell_type": "markdown",
   "id": "278f9ec9",
   "metadata": {},
   "source": [
    "Common operations are available through PyTorch:"
   ]
  },
  {
   "cell_type": "code",
   "execution_count": 5,
   "id": "5f15f3f0",
   "metadata": {},
   "outputs": [
    {
     "data": {
      "text/plain": [
       "(tensor([2., 4., 6.]),\n",
       " tensor([0.8415, 0.9093, 0.1411]),\n",
       " tensor([ 2.7183,  7.3891, 20.0855]))"
      ]
     },
     "execution_count": 5,
     "metadata": {},
     "output_type": "execute_result"
    }
   ],
   "source": [
    "x * y, torch.sin(y), torch.exp(y)"
   ]
  },
  {
   "cell_type": "markdown",
   "id": "6f387ee7",
   "metadata": {},
   "source": [
    "## Backpropagating Gradients via the `backward()` Method: a simple example"
   ]
  },
  {
   "cell_type": "markdown",
   "id": "610dea52",
   "metadata": {},
   "source": [
    "Consider a simple affine function of two variables\n",
    "\n",
    "$$\n",
    "    f(x_1, x_2; w_1, w_2, b) = w_1 x_1 + w_2 x_2 + b\n",
    "$$\n",
    "\n",
    "How can we compute $\\nabla_{W} f(x_1, x_2) = (x_1, x_2, 1)$ where $W = (w_1, w_2, b)$?"
   ]
  },
  {
   "cell_type": "markdown",
   "id": "4dc3f97c",
   "metadata": {},
   "source": [
    "* Initialize input data $x_1, x_2$:"
   ]
  },
  {
   "cell_type": "code",
   "execution_count": 6,
   "id": "ffbab8ed",
   "metadata": {},
   "outputs": [
    {
     "name": "stdout",
     "output_type": "stream",
     "text": [
      "tensor(10.) tensor(11.)\n"
     ]
    }
   ],
   "source": [
    "x1 = torch.tensor(10.0)\n",
    "x2 = torch.tensor(11.0)\n",
    "print(x1, x2)"
   ]
  },
  {
   "cell_type": "markdown",
   "id": "d9792ccc",
   "metadata": {},
   "source": [
    "* Initialize $w_1, w_2, b$ to require gradients using `requires_grad = True`:"
   ]
  },
  {
   "cell_type": "code",
   "execution_count": 7,
   "id": "06e7c8fa",
   "metadata": {},
   "outputs": [
    {
     "name": "stdout",
     "output_type": "stream",
     "text": [
      "tensor(1., requires_grad=True) tensor(2., requires_grad=True) tensor(3., requires_grad=True)\n"
     ]
    }
   ],
   "source": [
    "w1 = torch.tensor(1.0, requires_grad=True)\n",
    "w2 = torch.tensor(2.0, requires_grad=True)\n",
    "b  = torch.tensor(3.0, requires_grad=True)\n",
    "print(w1, w2, b)"
   ]
  },
  {
   "cell_type": "markdown",
   "id": "1c888ed1",
   "metadata": {},
   "source": [
    "* Compute output in forward pass (this generates a computational graph):"
   ]
  },
  {
   "cell_type": "code",
   "execution_count": 8,
   "id": "5fa1812a",
   "metadata": {},
   "outputs": [
    {
     "name": "stdout",
     "output_type": "stream",
     "text": [
      "tensor(35., grad_fn=<AddBackward0>)\n"
     ]
    }
   ],
   "source": [
    "w1x1 = w1 * x1\n",
    "w2x2 = w2 * x2\n",
    "f = w1x1 + w2x2 + b\n",
    "print(f)"
   ]
  },
  {
   "cell_type": "markdown",
   "id": "192d5f97",
   "metadata": {},
   "source": [
    "* Compute gradients in `backward()` pass:"
   ]
  },
  {
   "cell_type": "code",
   "execution_count": 9,
   "id": "1e0b6467",
   "metadata": {},
   "outputs": [
    {
     "name": "stdout",
     "output_type": "stream",
     "text": [
      "tensor(10.) tensor(11.) tensor(1.)\n"
     ]
    }
   ],
   "source": [
    "f.backward()\n",
    "print(w1.grad, w2.grad, b.grad)"
   ]
  },
  {
   "cell_type": "code",
   "execution_count": 10,
   "id": "54a780a4-485f-4b4c-86c8-58310861116e",
   "metadata": {},
   "outputs": [
    {
     "name": "stdout",
     "output_type": "stream",
     "text": [
      "None\n"
     ]
    }
   ],
   "source": [
    "print(x1.grad)"
   ]
  },
  {
   "cell_type": "markdown",
   "id": "5d7d4a96",
   "metadata": {},
   "source": [
    "## Implementing Gradient Descent: a convex example"
   ]
  },
  {
   "cell_type": "markdown",
   "id": "4ccc50b4",
   "metadata": {},
   "source": [
    "Let's use what we've learned to help us find the minimum of the function\n",
    "\n",
    "$$\n",
    "    f(x,y) = x^2 + y^2\n",
    "$$\n",
    "\n",
    "* Define $f$ and initialize $x,y$:"
   ]
  },
  {
   "cell_type": "code",
   "execution_count": 11,
   "id": "d12e02c6",
   "metadata": {},
   "outputs": [],
   "source": [
    "def f(x, y):\n",
    "    return x**2 + y**2\n",
    "\n",
    "x = torch.tensor(1.0, requires_grad=True)\n",
    "y = torch.tensor(2.0, requires_grad=True)"
   ]
  },
  {
   "cell_type": "markdown",
   "id": "040d70a4",
   "metadata": {},
   "source": [
    "* Compute output in forward pass:"
   ]
  },
  {
   "cell_type": "code",
   "execution_count": 12,
   "id": "af113f3b",
   "metadata": {},
   "outputs": [
    {
     "name": "stdout",
     "output_type": "stream",
     "text": [
      "tensor(5., grad_fn=<AddBackward0>)\n"
     ]
    }
   ],
   "source": [
    "z = f(x, y)\n",
    "print(z)"
   ]
  },
  {
   "cell_type": "markdown",
   "id": "3df8305f",
   "metadata": {},
   "source": [
    "* Compute gradients in ```backward()``` pass:"
   ]
  },
  {
   "cell_type": "code",
   "execution_count": 13,
   "id": "a74cc972",
   "metadata": {},
   "outputs": [
    {
     "name": "stdout",
     "output_type": "stream",
     "text": [
      "tensor(2.) tensor(4.)\n"
     ]
    }
   ],
   "source": [
    "z.backward()\n",
    "print(x.grad, y.grad)"
   ]
  },
  {
   "cell_type": "markdown",
   "id": "2f3cd51b",
   "metadata": {},
   "source": [
    "**Let's a take a descent step**:\n",
    "\n",
    "Remember that for arbitrary $x \\in \\mathbb{R}^n$, if we define\n",
    "\n",
    "$$\n",
    "    x^* = x - \\alpha \\nabla f(x)\n",
    "$$\n",
    "\n",
    "for sufficiently small $\\alpha > 0$, then $f(x^*) < f(x)$."
   ]
  },
  {
   "cell_type": "code",
   "execution_count": 14,
   "id": "2eccfc1f",
   "metadata": {},
   "outputs": [
    {
     "name": "stdout",
     "output_type": "stream",
     "text": [
      "tensor(4.8020)\n"
     ]
    }
   ],
   "source": [
    "α = 0.01\n",
    "\n",
    "with torch.no_grad():\n",
    "    x = x - α * x.grad\n",
    "    y = y - α * y.grad\n",
    "\n",
    "    print(f(x, y))"
   ]
  },
  {
   "cell_type": "markdown",
   "id": "91da68d4",
   "metadata": {},
   "source": [
    "**Using the ```optim``` package to make our lives easier:**"
   ]
  },
  {
   "cell_type": "code",
   "execution_count": 15,
   "id": "8546c32a",
   "metadata": {},
   "outputs": [
    {
     "data": {
      "text/plain": [
       "[<matplotlib.lines.Line2D at 0x124e1b590>]"
      ]
     },
     "execution_count": 15,
     "metadata": {},
     "output_type": "execute_result"
    },
    {
     "data": {
      "image/png": "[encoded data removed]",
      "text/plain": [
       "<Figure size 640x480 with 1 Axes>"
      ]
     },
     "metadata": {},
     "output_type": "display_data"
    }
   ],
   "source": [
    "x = torch.tensor(1.0, requires_grad=True)\n",
    "y = torch.tensor(2.0, requires_grad=True)\n",
    "optimizer = torch.optim.SGD([x, y], lr=α)\n",
    "z_vals = []\n",
    "\n",
    "for _ in range(100):\n",
    "    z = f(x, y)\n",
    "    z.backward()\n",
    "    optimizer.step()\n",
    "    optimizer.zero_grad()\n",
    "    z_vals.append(z.item())\n",
    "    \n",
    "plt.plot(z_vals)"
   ]
  },
  {
   "cell_type": "code",
   "execution_count": null,
   "id": "a8d94378-630a-40b8-9739-f32e7499cb33",
   "metadata": {},
   "outputs": [],
   "source": []
  }
 ],
 "metadata": {
  "kernelspec": {
   "display_name": "Python 3 (ipykernel)",
   "language": "python",
   "name": "python3"
  },
  "language_info": {
   "codemirror_mode": {
    "name": "ipython",
    "version": 3
   },
   "file_extension": ".py",
   "mimetype": "text/x-python",
   "name": "python",
   "nbconvert_exporter": "python",
   "pygments_lexer": "ipython3",
   "version": "3.11.0"
  }
 },
 "nbformat": 4,
 "nbformat_minor": 5
}
